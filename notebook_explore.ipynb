{
 "cells": [
  {
   "cell_type": "code",
   "execution_count": 1,
   "metadata": {},
   "outputs": [],
   "source": [
    "import pandas as pd\n",
    "import matplotlib.pyplot as plt\n",
    "import seaborn as sns"
   ]
  },
  {
   "cell_type": "code",
   "execution_count": 2,
   "metadata": {},
   "outputs": [
    {
     "data": {
      "text/html": [
       "<div>\n",
       "<style scoped>\n",
       "    .dataframe tbody tr th:only-of-type {\n",
       "        vertical-align: middle;\n",
       "    }\n",
       "\n",
       "    .dataframe tbody tr th {\n",
       "        vertical-align: top;\n",
       "    }\n",
       "\n",
       "    .dataframe thead th {\n",
       "        text-align: right;\n",
       "    }\n",
       "</style>\n",
       "<table border=\"1\" class=\"dataframe\">\n",
       "  <thead>\n",
       "    <tr style=\"text-align: right;\">\n",
       "      <th></th>\n",
       "      <th>Company Name</th>\n",
       "      <th>Job Posting Time</th>\n",
       "      <th>Number of Applicants</th>\n",
       "      <th>Seniority Level</th>\n",
       "      <th>Company Industry</th>\n",
       "      <th>Detail description</th>\n",
       "      <th>Employment Type</th>\n",
       "      <th>Job Function</th>\n",
       "      <th>Size of Employee</th>\n",
       "      <th>Keyword</th>\n",
       "    </tr>\n",
       "  </thead>\n",
       "  <tbody>\n",
       "    <tr>\n",
       "      <th>0</th>\n",
       "      <td>Blibli.com</td>\n",
       "      <td>4 weeks ago</td>\n",
       "      <td>96</td>\n",
       "      <td>Mid-Senior level</td>\n",
       "      <td>Retail</td>\n",
       "      <td>As Data Engineer in blibli, you need to build ...</td>\n",
       "      <td>Full-time</td>\n",
       "      <td>Information Technology,Analyst,Strategy/Planning</td>\n",
       "      <td>NaN</td>\n",
       "      <td>Senior Data Engineer</td>\n",
       "    </tr>\n",
       "    <tr>\n",
       "      <th>1</th>\n",
       "      <td>Flip.id</td>\n",
       "      <td>3 days ago</td>\n",
       "      <td>29</td>\n",
       "      <td>Mid-Senior level</td>\n",
       "      <td>Financial Services,Banking,Information Technol...</td>\n",
       "      <td>Direct message the job poster from Flip.id Wul...</td>\n",
       "      <td>Full-time</td>\n",
       "      <td>Engineering</td>\n",
       "      <td>NaN</td>\n",
       "      <td>Senior Data Engineer</td>\n",
       "    </tr>\n",
       "    <tr>\n",
       "      <th>2</th>\n",
       "      <td>Sayurbox</td>\n",
       "      <td>4 weeks ago</td>\n",
       "      <td>&lt;25</td>\n",
       "      <td>Associate</td>\n",
       "      <td>Marketing and Advertising,Market Research,Inte...</td>\n",
       "      <td>Sayurbox is a provider of fresh produce to hou...</td>\n",
       "      <td>Full-time</td>\n",
       "      <td>Information Technology</td>\n",
       "      <td>NaN</td>\n",
       "      <td>Senior Data Engineer</td>\n",
       "    </tr>\n",
       "    <tr>\n",
       "      <th>3</th>\n",
       "      <td>Tjetak</td>\n",
       "      <td>16 hours ago</td>\n",
       "      <td>&lt;25</td>\n",
       "      <td>Associate</td>\n",
       "      <td>Information Technology and Services</td>\n",
       "      <td>Direct message the job poster from Tjetak Hasa...</td>\n",
       "      <td>Full-time</td>\n",
       "      <td>Information Technology</td>\n",
       "      <td>NaN</td>\n",
       "      <td>Senior Data Engineer</td>\n",
       "    </tr>\n",
       "    <tr>\n",
       "      <th>4</th>\n",
       "      <td>Blue Bird Group</td>\n",
       "      <td>1 week ago</td>\n",
       "      <td>&lt;25</td>\n",
       "      <td>Associate</td>\n",
       "      <td>Transportation/Trucking/Railroad</td>\n",
       "      <td>Direct message the job poster from Blue Bird G...</td>\n",
       "      <td>Full-time</td>\n",
       "      <td>Information Technology</td>\n",
       "      <td>NaN</td>\n",
       "      <td>Senior Data Engineer</td>\n",
       "    </tr>\n",
       "  </tbody>\n",
       "</table>\n",
       "</div>"
      ],
      "text/plain": [
       "      Company Name Job Posting Time Number of Applicants   Seniority Level  \\\n",
       "0       Blibli.com      4 weeks ago                   96  Mid-Senior level   \n",
       "1          Flip.id       3 days ago                   29  Mid-Senior level   \n",
       "2         Sayurbox      4 weeks ago                  <25         Associate   \n",
       "3           Tjetak     16 hours ago                  <25         Associate   \n",
       "4  Blue Bird Group       1 week ago                  <25         Associate   \n",
       "\n",
       "                                    Company Industry  \\\n",
       "0                                             Retail   \n",
       "1  Financial Services,Banking,Information Technol...   \n",
       "2  Marketing and Advertising,Market Research,Inte...   \n",
       "3                Information Technology and Services   \n",
       "4                   Transportation/Trucking/Railroad   \n",
       "\n",
       "                                  Detail description Employment Type  \\\n",
       "0  As Data Engineer in blibli, you need to build ...       Full-time   \n",
       "1  Direct message the job poster from Flip.id Wul...       Full-time   \n",
       "2  Sayurbox is a provider of fresh produce to hou...       Full-time   \n",
       "3  Direct message the job poster from Tjetak Hasa...       Full-time   \n",
       "4  Direct message the job poster from Blue Bird G...       Full-time   \n",
       "\n",
       "                                       Job Function  Size of Employee  \\\n",
       "0  Information Technology,Analyst,Strategy/Planning               NaN   \n",
       "1                                       Engineering               NaN   \n",
       "2                            Information Technology               NaN   \n",
       "3                            Information Technology               NaN   \n",
       "4                            Information Technology               NaN   \n",
       "\n",
       "                Keyword  \n",
       "0  Senior Data Engineer  \n",
       "1  Senior Data Engineer  \n",
       "2  Senior Data Engineer  \n",
       "3  Senior Data Engineer  \n",
       "4  Senior Data Engineer  "
      ]
     },
     "execution_count": 2,
     "metadata": {},
     "output_type": "execute_result"
    }
   ],
   "source": [
    "df = pd.read_csv('LinkedIn Job Data.csv')\n",
    "df.head()"
   ]
  },
  {
   "cell_type": "code",
   "execution_count": 3,
   "metadata": {},
   "outputs": [
    {
     "data": {
      "text/plain": [
       "(520, 10)"
      ]
     },
     "execution_count": 3,
     "metadata": {},
     "output_type": "execute_result"
    }
   ],
   "source": [
    "df.shape"
   ]
  },
  {
   "cell_type": "code",
   "execution_count": 4,
   "metadata": {},
   "outputs": [
    {
     "name": "stdout",
     "output_type": "stream",
     "text": [
      "<class 'pandas.core.frame.DataFrame'>\n",
      "RangeIndex: 520 entries, 0 to 519\n",
      "Data columns (total 10 columns):\n",
      " #   Column                Non-Null Count  Dtype  \n",
      "---  ------                --------------  -----  \n",
      " 0   Company Name          520 non-null    object \n",
      " 1   Job Posting Time      520 non-null    object \n",
      " 2   Number of Applicants  520 non-null    object \n",
      " 3   Seniority Level       520 non-null    object \n",
      " 4   Company Industry      498 non-null    object \n",
      " 5   Detail description    520 non-null    object \n",
      " 6   Employment Type       520 non-null    object \n",
      " 7   Job Function          520 non-null    object \n",
      " 8   Size of Employee      0 non-null      float64\n",
      " 9   Keyword               520 non-null    object \n",
      "dtypes: float64(1), object(9)\n",
      "memory usage: 40.8+ KB\n"
     ]
    }
   ],
   "source": [
    "df.info()"
   ]
  },
  {
   "cell_type": "code",
   "execution_count": 5,
   "metadata": {},
   "outputs": [
    {
     "data": {
      "text/html": [
       "<div>\n",
       "<style scoped>\n",
       "    .dataframe tbody tr th:only-of-type {\n",
       "        vertical-align: middle;\n",
       "    }\n",
       "\n",
       "    .dataframe tbody tr th {\n",
       "        vertical-align: top;\n",
       "    }\n",
       "\n",
       "    .dataframe thead th {\n",
       "        text-align: right;\n",
       "    }\n",
       "</style>\n",
       "<table border=\"1\" class=\"dataframe\">\n",
       "  <thead>\n",
       "    <tr style=\"text-align: right;\">\n",
       "      <th></th>\n",
       "      <th>column_name</th>\n",
       "      <th>percent_missing</th>\n",
       "    </tr>\n",
       "  </thead>\n",
       "  <tbody>\n",
       "    <tr>\n",
       "      <th>Company Name</th>\n",
       "      <td>Company Name</td>\n",
       "      <td>0.000000</td>\n",
       "    </tr>\n",
       "    <tr>\n",
       "      <th>Job Posting Time</th>\n",
       "      <td>Job Posting Time</td>\n",
       "      <td>0.000000</td>\n",
       "    </tr>\n",
       "    <tr>\n",
       "      <th>Number of Applicants</th>\n",
       "      <td>Number of Applicants</td>\n",
       "      <td>0.000000</td>\n",
       "    </tr>\n",
       "    <tr>\n",
       "      <th>Seniority Level</th>\n",
       "      <td>Seniority Level</td>\n",
       "      <td>0.000000</td>\n",
       "    </tr>\n",
       "    <tr>\n",
       "      <th>Detail description</th>\n",
       "      <td>Detail description</td>\n",
       "      <td>0.000000</td>\n",
       "    </tr>\n",
       "    <tr>\n",
       "      <th>Employment Type</th>\n",
       "      <td>Employment Type</td>\n",
       "      <td>0.000000</td>\n",
       "    </tr>\n",
       "    <tr>\n",
       "      <th>Job Function</th>\n",
       "      <td>Job Function</td>\n",
       "      <td>0.000000</td>\n",
       "    </tr>\n",
       "    <tr>\n",
       "      <th>Keyword</th>\n",
       "      <td>Keyword</td>\n",
       "      <td>0.000000</td>\n",
       "    </tr>\n",
       "    <tr>\n",
       "      <th>Company Industry</th>\n",
       "      <td>Company Industry</td>\n",
       "      <td>4.230769</td>\n",
       "    </tr>\n",
       "    <tr>\n",
       "      <th>Size of Employee</th>\n",
       "      <td>Size of Employee</td>\n",
       "      <td>100.000000</td>\n",
       "    </tr>\n",
       "  </tbody>\n",
       "</table>\n",
       "</div>"
      ],
      "text/plain": [
       "                               column_name  percent_missing\n",
       "Company Name                  Company Name         0.000000\n",
       "Job Posting Time          Job Posting Time         0.000000\n",
       "Number of Applicants  Number of Applicants         0.000000\n",
       "Seniority Level            Seniority Level         0.000000\n",
       "Detail description      Detail description         0.000000\n",
       "Employment Type            Employment Type         0.000000\n",
       "Job Function                  Job Function         0.000000\n",
       "Keyword                            Keyword         0.000000\n",
       "Company Industry          Company Industry         4.230769\n",
       "Size of Employee          Size of Employee       100.000000"
      ]
     },
     "execution_count": 5,
     "metadata": {},
     "output_type": "execute_result"
    }
   ],
   "source": [
    "percent_missing = df.isnull().sum() * 100 / len(df)\n",
    "missing_value_df = pd.DataFrame({'column_name': df.columns,\n",
    "                                 'percent_missing': percent_missing})\n",
    "missing_value_df.sort_values('percent_missing', inplace=True)\n",
    "missing_value_df"
   ]
  },
  {
   "cell_type": "code",
   "execution_count": 6,
   "metadata": {},
   "outputs": [],
   "source": [
    "df.drop(columns='Size of Employee', inplace=True)"
   ]
  },
  {
   "cell_type": "code",
   "execution_count": 7,
   "metadata": {},
   "outputs": [],
   "source": [
    "df.dropna(inplace=True)"
   ]
  },
  {
   "cell_type": "code",
   "execution_count": 8,
   "metadata": {},
   "outputs": [
    {
     "data": {
      "text/html": [
       "<div>\n",
       "<style scoped>\n",
       "    .dataframe tbody tr th:only-of-type {\n",
       "        vertical-align: middle;\n",
       "    }\n",
       "\n",
       "    .dataframe tbody tr th {\n",
       "        vertical-align: top;\n",
       "    }\n",
       "\n",
       "    .dataframe thead th {\n",
       "        text-align: right;\n",
       "    }\n",
       "</style>\n",
       "<table border=\"1\" class=\"dataframe\">\n",
       "  <thead>\n",
       "    <tr style=\"text-align: right;\">\n",
       "      <th></th>\n",
       "      <th>column_name</th>\n",
       "      <th>percent_missing</th>\n",
       "    </tr>\n",
       "  </thead>\n",
       "  <tbody>\n",
       "    <tr>\n",
       "      <th>Company Name</th>\n",
       "      <td>Company Name</td>\n",
       "      <td>0.0</td>\n",
       "    </tr>\n",
       "    <tr>\n",
       "      <th>Job Posting Time</th>\n",
       "      <td>Job Posting Time</td>\n",
       "      <td>0.0</td>\n",
       "    </tr>\n",
       "    <tr>\n",
       "      <th>Number of Applicants</th>\n",
       "      <td>Number of Applicants</td>\n",
       "      <td>0.0</td>\n",
       "    </tr>\n",
       "    <tr>\n",
       "      <th>Seniority Level</th>\n",
       "      <td>Seniority Level</td>\n",
       "      <td>0.0</td>\n",
       "    </tr>\n",
       "    <tr>\n",
       "      <th>Company Industry</th>\n",
       "      <td>Company Industry</td>\n",
       "      <td>0.0</td>\n",
       "    </tr>\n",
       "    <tr>\n",
       "      <th>Detail description</th>\n",
       "      <td>Detail description</td>\n",
       "      <td>0.0</td>\n",
       "    </tr>\n",
       "    <tr>\n",
       "      <th>Employment Type</th>\n",
       "      <td>Employment Type</td>\n",
       "      <td>0.0</td>\n",
       "    </tr>\n",
       "    <tr>\n",
       "      <th>Job Function</th>\n",
       "      <td>Job Function</td>\n",
       "      <td>0.0</td>\n",
       "    </tr>\n",
       "    <tr>\n",
       "      <th>Keyword</th>\n",
       "      <td>Keyword</td>\n",
       "      <td>0.0</td>\n",
       "    </tr>\n",
       "  </tbody>\n",
       "</table>\n",
       "</div>"
      ],
      "text/plain": [
       "                               column_name  percent_missing\n",
       "Company Name                  Company Name              0.0\n",
       "Job Posting Time          Job Posting Time              0.0\n",
       "Number of Applicants  Number of Applicants              0.0\n",
       "Seniority Level            Seniority Level              0.0\n",
       "Company Industry          Company Industry              0.0\n",
       "Detail description      Detail description              0.0\n",
       "Employment Type            Employment Type              0.0\n",
       "Job Function                  Job Function              0.0\n",
       "Keyword                            Keyword              0.0"
      ]
     },
     "execution_count": 8,
     "metadata": {},
     "output_type": "execute_result"
    }
   ],
   "source": [
    "percent_missing = df.isnull().sum() * 100 / len(df)\n",
    "missing_value_df = pd.DataFrame({'column_name': df.columns,\n",
    "                                 'percent_missing': percent_missing})\n",
    "missing_value_df.sort_values('percent_missing', inplace=True)\n",
    "missing_value_df"
   ]
  },
  {
   "cell_type": "code",
   "execution_count": 9,
   "metadata": {},
   "outputs": [
    {
     "data": {
      "text/plain": [
       "2 weeks ago     84\n",
       "3 weeks ago     82\n",
       "1 week ago      66\n",
       "1 month ago     59\n",
       "2 months ago    53\n",
       "4 weeks ago     43\n",
       "2 days ago      34\n",
       "3 days ago      14\n",
       "6 months ago     9\n",
       "3 months ago     8\n",
       "5 months ago     6\n",
       "4 months ago     5\n",
       "6 days ago       4\n",
       "5 days ago       4\n",
       "4 days ago       4\n",
       "7 days ago       4\n",
       "17 hours ago     3\n",
       "16 hours ago     3\n",
       "22 hours ago     3\n",
       "9 hours ago      2\n",
       "3 hours ago      1\n",
       "14 hours ago     1\n",
       "13 hours ago     1\n",
       "1 day ago        1\n",
       "10 hours ago     1\n",
       "19 hours ago     1\n",
       "1 year ago       1\n",
       "18 hours ago     1\n",
       "Name: Job Posting Time, dtype: int64"
      ]
     },
     "execution_count": 9,
     "metadata": {},
     "output_type": "execute_result"
    }
   ],
   "source": [
    "df['Job Posting Time'].value_counts()"
   ]
  },
  {
   "cell_type": "code",
   "execution_count": 10,
   "metadata": {},
   "outputs": [],
   "source": [
    "def post_time_to_day(time):\n",
    "    result = 0\n",
    "    if 'month' in time:\n",
    "        result = int(time.split()[0]) * 30\n",
    "    elif 'week' in time:\n",
    "        result = int(time.split()[0]) * 7\n",
    "    elif 'day' in time:\n",
    "        result = int(time.split()[0])\n",
    "    elif ('hour' in time) | ('minute' in time) | ('second' in time):\n",
    "        result = 1\n",
    "    return result"
   ]
  },
  {
   "cell_type": "code",
   "execution_count": 11,
   "metadata": {},
   "outputs": [
    {
     "data": {
      "text/html": [
       "<div>\n",
       "<style scoped>\n",
       "    .dataframe tbody tr th:only-of-type {\n",
       "        vertical-align: middle;\n",
       "    }\n",
       "\n",
       "    .dataframe tbody tr th {\n",
       "        vertical-align: top;\n",
       "    }\n",
       "\n",
       "    .dataframe thead th {\n",
       "        text-align: right;\n",
       "    }\n",
       "</style>\n",
       "<table border=\"1\" class=\"dataframe\">\n",
       "  <thead>\n",
       "    <tr style=\"text-align: right;\">\n",
       "      <th></th>\n",
       "      <th>Company Name</th>\n",
       "      <th>Job Posting Time</th>\n",
       "      <th>Number of Applicants</th>\n",
       "      <th>Seniority Level</th>\n",
       "      <th>Company Industry</th>\n",
       "      <th>Detail description</th>\n",
       "      <th>Employment Type</th>\n",
       "      <th>Job Function</th>\n",
       "      <th>Keyword</th>\n",
       "      <th>day_past</th>\n",
       "    </tr>\n",
       "  </thead>\n",
       "  <tbody>\n",
       "    <tr>\n",
       "      <th>0</th>\n",
       "      <td>Blibli.com</td>\n",
       "      <td>4 weeks ago</td>\n",
       "      <td>96</td>\n",
       "      <td>Mid-Senior level</td>\n",
       "      <td>Retail</td>\n",
       "      <td>As Data Engineer in blibli, you need to build ...</td>\n",
       "      <td>Full-time</td>\n",
       "      <td>Information Technology,Analyst,Strategy/Planning</td>\n",
       "      <td>Senior Data Engineer</td>\n",
       "      <td>28</td>\n",
       "    </tr>\n",
       "    <tr>\n",
       "      <th>1</th>\n",
       "      <td>Flip.id</td>\n",
       "      <td>3 days ago</td>\n",
       "      <td>29</td>\n",
       "      <td>Mid-Senior level</td>\n",
       "      <td>Financial Services,Banking,Information Technol...</td>\n",
       "      <td>Direct message the job poster from Flip.id Wul...</td>\n",
       "      <td>Full-time</td>\n",
       "      <td>Engineering</td>\n",
       "      <td>Senior Data Engineer</td>\n",
       "      <td>3</td>\n",
       "    </tr>\n",
       "    <tr>\n",
       "      <th>2</th>\n",
       "      <td>Sayurbox</td>\n",
       "      <td>4 weeks ago</td>\n",
       "      <td>&lt;25</td>\n",
       "      <td>Associate</td>\n",
       "      <td>Marketing and Advertising,Market Research,Inte...</td>\n",
       "      <td>Sayurbox is a provider of fresh produce to hou...</td>\n",
       "      <td>Full-time</td>\n",
       "      <td>Information Technology</td>\n",
       "      <td>Senior Data Engineer</td>\n",
       "      <td>28</td>\n",
       "    </tr>\n",
       "    <tr>\n",
       "      <th>3</th>\n",
       "      <td>Tjetak</td>\n",
       "      <td>16 hours ago</td>\n",
       "      <td>&lt;25</td>\n",
       "      <td>Associate</td>\n",
       "      <td>Information Technology and Services</td>\n",
       "      <td>Direct message the job poster from Tjetak Hasa...</td>\n",
       "      <td>Full-time</td>\n",
       "      <td>Information Technology</td>\n",
       "      <td>Senior Data Engineer</td>\n",
       "      <td>1</td>\n",
       "    </tr>\n",
       "    <tr>\n",
       "      <th>4</th>\n",
       "      <td>Blue Bird Group</td>\n",
       "      <td>1 week ago</td>\n",
       "      <td>&lt;25</td>\n",
       "      <td>Associate</td>\n",
       "      <td>Transportation/Trucking/Railroad</td>\n",
       "      <td>Direct message the job poster from Blue Bird G...</td>\n",
       "      <td>Full-time</td>\n",
       "      <td>Information Technology</td>\n",
       "      <td>Senior Data Engineer</td>\n",
       "      <td>7</td>\n",
       "    </tr>\n",
       "  </tbody>\n",
       "</table>\n",
       "</div>"
      ],
      "text/plain": [
       "      Company Name Job Posting Time Number of Applicants   Seniority Level  \\\n",
       "0       Blibli.com      4 weeks ago                   96  Mid-Senior level   \n",
       "1          Flip.id       3 days ago                   29  Mid-Senior level   \n",
       "2         Sayurbox      4 weeks ago                  <25         Associate   \n",
       "3           Tjetak     16 hours ago                  <25         Associate   \n",
       "4  Blue Bird Group       1 week ago                  <25         Associate   \n",
       "\n",
       "                                    Company Industry  \\\n",
       "0                                             Retail   \n",
       "1  Financial Services,Banking,Information Technol...   \n",
       "2  Marketing and Advertising,Market Research,Inte...   \n",
       "3                Information Technology and Services   \n",
       "4                   Transportation/Trucking/Railroad   \n",
       "\n",
       "                                  Detail description Employment Type  \\\n",
       "0  As Data Engineer in blibli, you need to build ...       Full-time   \n",
       "1  Direct message the job poster from Flip.id Wul...       Full-time   \n",
       "2  Sayurbox is a provider of fresh produce to hou...       Full-time   \n",
       "3  Direct message the job poster from Tjetak Hasa...       Full-time   \n",
       "4  Direct message the job poster from Blue Bird G...       Full-time   \n",
       "\n",
       "                                       Job Function               Keyword  \\\n",
       "0  Information Technology,Analyst,Strategy/Planning  Senior Data Engineer   \n",
       "1                                       Engineering  Senior Data Engineer   \n",
       "2                            Information Technology  Senior Data Engineer   \n",
       "3                            Information Technology  Senior Data Engineer   \n",
       "4                            Information Technology  Senior Data Engineer   \n",
       "\n",
       "   day_past  \n",
       "0        28  \n",
       "1         3  \n",
       "2        28  \n",
       "3         1  \n",
       "4         7  "
      ]
     },
     "execution_count": 11,
     "metadata": {},
     "output_type": "execute_result"
    }
   ],
   "source": [
    "df['day_past'] = df['Job Posting Time'].apply(post_time_to_day)\n",
    "df.head()"
   ]
  },
  {
   "cell_type": "code",
   "execution_count": 12,
   "metadata": {},
   "outputs": [
    {
     "data": {
      "text/plain": [
       "14     84\n",
       "21     82\n",
       "7      70\n",
       "30     59\n",
       "60     53\n",
       "28     43\n",
       "2      34\n",
       "1      18\n",
       "3      14\n",
       "180     9\n",
       "90      8\n",
       "150     6\n",
       "120     5\n",
       "6       4\n",
       "5       4\n",
       "4       4\n",
       "0       1\n",
       "Name: day_past, dtype: int64"
      ]
     },
     "execution_count": 12,
     "metadata": {},
     "output_type": "execute_result"
    }
   ],
   "source": [
    "df['day_past'].value_counts()"
   ]
  },
  {
   "cell_type": "code",
   "execution_count": 21,
   "metadata": {},
   "outputs": [
    {
     "data": {
      "text/plain": [
       "Company Name            object\n",
       "Job Posting Time        object\n",
       "Number of Applicants    object\n",
       "Seniority Level         object\n",
       "Company Industry        object\n",
       "Detail description      object\n",
       "Employment Type         object\n",
       "Job Function            object\n",
       "Keyword                 object\n",
       "day_past                 int64\n",
       "dtype: object"
      ]
     },
     "execution_count": 21,
     "metadata": {},
     "output_type": "execute_result"
    }
   ],
   "source": [
    "df.dtypes"
   ]
  },
  {
   "cell_type": "code",
   "execution_count": 79,
   "metadata": {},
   "outputs": [
    {
     "data": {
      "text/plain": [
       "Company Name            object\n",
       "Job Posting Time        object\n",
       "Number of Applicants     int32\n",
       "Seniority Level         object\n",
       "Company Industry        object\n",
       "Detail description      object\n",
       "Employment Type         object\n",
       "Job Function            object\n",
       "Keyword                 object\n",
       "day_past                 int64\n",
       "dtype: object"
      ]
     },
     "execution_count": 79,
     "metadata": {},
     "output_type": "execute_result"
    }
   ],
   "source": [
    "# Convert Number of Applicants to number, especially <25 and >200\n",
    "# df['Number of Applicants'].value_counts()\n",
    "# replace <25 with 12 ==> ((0 + 25) / 2) as the assumption\n",
    "# replace >200 with 200\n",
    "\n",
    "df['Number of Applicants'].replace('<25', 12, inplace=True)\n",
    "df['Number of Applicants'].replace('>200', 200, inplace=True)\n",
    "df['Number of Applicants'] = df['Number of Applicants'].astype('int')\n",
    "\n",
    "df.dtypes"
   ]
  },
  {
   "cell_type": "code",
   "execution_count": 80,
   "metadata": {
    "scrolled": true
   },
   "outputs": [
    {
     "data": {
      "image/png": "[encoded data removed]",
      "text/plain": [
       "<Figure size 432x288 with 1 Axes>"
      ]
     },
     "metadata": {},
     "output_type": "display_data"
    }
   ],
   "source": [
    "# Day past frequency line plot\n",
    "ax=sns.lineplot(y=df['day_past'].value_counts().index,x=df['day_past'].value_counts().values)\n",
    "plt.xlabel('Day Past')\n",
    "plt.ylabel('Frequency')\n",
    "plt.title('Day Past Frequency')\n",
    "plt.show()\n",
    "\n",
    "# Implication: most job scrapped are posted around 1-2 week"
   ]
  },
  {
   "cell_type": "code",
   "execution_count": 81,
   "metadata": {},
   "outputs": [
    {
     "data": {
      "image/png": "[encoded data removed]",
      "text/plain": [
       "<Figure size 432x288 with 1 Axes>"
      ]
     },
     "metadata": {},
     "output_type": "display_data"
    }
   ],
   "source": [
    "# Keyword Frequency bar plot\n",
    "ax=sns.barplot(y=df['Keyword'].value_counts().index,x=df['Keyword'].value_counts().values)\n",
    "plt.xlabel('Keyword')\n",
    "plt.ylabel('Frequency')\n",
    "plt.title('Keyword Frequency')\n",
    "plt.show()\n",
    "\n",
    "# Implication: Data analyst keyword has the most scrapped job post"
   ]
  },
  {
   "cell_type": "code",
   "execution_count": 82,
   "metadata": {},
   "outputs": [
    {
     "data": {
      "image/png": "[encoded data removed]",
      "text/plain": [
       "<Figure size 432x288 with 1 Axes>"
      ]
     },
     "metadata": {},
     "output_type": "display_data"
    }
   ],
   "source": [
    "# Keyword Frequency bar plot\n",
    "ax=sns.barplot(y=df['Seniority Level'].value_counts().index,x=df['Seniority Level'].value_counts().values)\n",
    "plt.xlabel('Seniority Level')\n",
    "plt.ylabel('Frequency')\n",
    "plt.title('Seniority Level Frequency')\n",
    "plt.show()\n",
    "\n",
    "# Implication: most job scrapped are looking for Associate and Entry Level Seniority"
   ]
  },
  {
   "cell_type": "code",
   "execution_count": 89,
   "metadata": {},
   "outputs": [
    {
     "data": {
      "image/png": "[encoded data removed]",
      "text/plain": [
       "<Figure size 432x288 with 1 Axes>"
      ]
     },
     "metadata": {},
     "output_type": "display_data"
    }
   ],
   "source": [
    "# Keyword Frequency bar plot\n",
    "ax=sns.distplot(df['Number of Applicants'], hist=False)\n",
    "plt.xlabel('Number of Applicants')\n",
    "plt.ylabel('Frequency')\n",
    "plt.title('Number of Applicants Frequency')\n",
    "plt.show()\n",
    "\n",
    "# Implication: most job scrapped are applied less than 50 applicants"
   ]
  }
 ],
 "metadata": {
  "kernelspec": {
   "display_name": "Python 3",
   "language": "python",
   "name": "python3"
  },
  "language_info": {
   "codemirror_mode": {
    "name": "ipython",
    "version": 3
   },
   "file_extension": ".py",
   "mimetype": "text/x-python",
   "name": "python",
   "nbconvert_exporter": "python",
   "pygments_lexer": "ipython3",
   "version": "3.8.3"
  }
 },
 "nbformat": 4,
 "nbformat_minor": 2
}
